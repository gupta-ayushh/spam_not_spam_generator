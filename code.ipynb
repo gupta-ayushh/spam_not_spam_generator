{
 "cells": [
  {
   "cell_type": "code",
   "execution_count": 1,
   "id": "fe3e174e",
   "metadata": {
    "_cell_guid": "b1076dfc-b9ad-4769-8c92-a6c4dae69d19",
    "_uuid": "8f2839f25d086af736a60e9eeb907d3b93b6e0e5",
    "execution": {
     "iopub.execute_input": "2024-11-24T11:54:20.574456Z",
     "iopub.status.busy": "2024-11-24T11:54:20.574147Z",
     "iopub.status.idle": "2024-11-24T11:54:29.622350Z",
     "shell.execute_reply": "2024-11-24T11:54:29.621416Z"
    },
    "papermill": {
     "duration": 9.057853,
     "end_time": "2024-11-24T11:54:29.624548",
     "exception": false,
     "start_time": "2024-11-24T11:54:20.566695",
     "status": "completed"
    },
    "tags": []
   },
   "outputs": [
    {
     "name": "stdout",
     "output_type": "stream",
     "text": [
      "Requirement already satisfied: torch in /opt/conda/lib/python3.10/site-packages (2.4.0)\r\n",
      "Requirement already satisfied: torchvision in /opt/conda/lib/python3.10/site-packages (0.19.0)\r\n",
      "Requirement already satisfied: nltk in /opt/conda/lib/python3.10/site-packages (3.2.4)\r\n",
      "Requirement already satisfied: filelock in /opt/conda/lib/python3.10/site-packages (from torch) (3.15.1)\r\n",
      "Requirement already satisfied: typing-extensions>=4.8.0 in /opt/conda/lib/python3.10/site-packages (from torch) (4.12.2)\r\n",
      "Requirement already satisfied: sympy in /opt/conda/lib/python3.10/site-packages (from torch) (1.13.3)\r\n",
      "Requirement already satisfied: networkx in /opt/conda/lib/python3.10/site-packages (from torch) (3.3)\r\n",
      "Requirement already satisfied: jinja2 in /opt/conda/lib/python3.10/site-packages (from torch) (3.1.4)\r\n",
      "Requirement already satisfied: fsspec in /opt/conda/lib/python3.10/site-packages (from torch) (2024.6.1)\r\n",
      "Requirement already satisfied: numpy in /opt/conda/lib/python3.10/site-packages (from torchvision) (1.26.4)\r\n",
      "Requirement already satisfied: pillow!=8.3.*,>=5.3.0 in /opt/conda/lib/python3.10/site-packages (from torchvision) (10.3.0)\r\n",
      "Requirement already satisfied: six in /opt/conda/lib/python3.10/site-packages (from nltk) (1.16.0)\r\n",
      "Requirement already satisfied: MarkupSafe>=2.0 in /opt/conda/lib/python3.10/site-packages (from jinja2->torch) (2.1.5)\r\n",
      "Requirement already satisfied: mpmath<1.4,>=1.1.0 in /opt/conda/lib/python3.10/site-packages (from sympy->torch) (1.3.0)\r\n"
     ]
    }
   ],
   "source": [
    "! pip install torch torchvision nltk"
   ]
  },
  {
   "cell_type": "code",
   "execution_count": 2,
   "id": "796cbc04",
   "metadata": {
    "execution": {
     "iopub.execute_input": "2024-11-24T11:54:29.637011Z",
     "iopub.status.busy": "2024-11-24T11:54:29.636314Z",
     "iopub.status.idle": "2024-11-24T11:54:34.771333Z",
     "shell.execute_reply": "2024-11-24T11:54:34.770325Z"
    },
    "papermill": {
     "duration": 5.143234,
     "end_time": "2024-11-24T11:54:34.773386",
     "exception": false,
     "start_time": "2024-11-24T11:54:29.630152",
     "status": "completed"
    },
    "tags": []
   },
   "outputs": [
    {
     "name": "stdout",
     "output_type": "stream",
     "text": [
      "[nltk_data] Downloading package punkt to /usr/share/nltk_data...\n",
      "[nltk_data]   Package punkt is already up-to-date!\n",
      "[nltk_data] Downloading package stopwords to /usr/share/nltk_data...\n",
      "[nltk_data]   Package stopwords is already up-to-date!\n",
      "cuda\n"
     ]
    }
   ],
   "source": [
    "import pandas as pd\n",
    "import numpy as np\n",
    "import torch\n",
    "import torch.nn as nn\n",
    "import torch.optim as optim\n",
    "from torch.utils.data import DataLoader, Dataset\n",
    "from torch.nn.utils.rnn import pad_sequence\n",
    "from sklearn.model_selection import train_test_split\n",
    "import nltk\n",
    "import re\n",
    "from nltk.corpus import stopwords\n",
    "from nltk.tokenize import word_tokenize\n",
    "from collections import Counter\n",
    "\n",
    "# Download NLTK resources\n",
    "nltk.download('punkt')\n",
    "nltk.download('stopwords')\n",
    "\n",
    "\n",
    "# Device configuration\n",
    "device = torch.device('cuda' if torch.cuda.is_available() else 'cpu')\n",
    "print(device)"
   ]
  },
  {
   "cell_type": "code",
   "execution_count": 3,
   "id": "cf8c747b",
   "metadata": {
    "execution": {
     "iopub.execute_input": "2024-11-24T11:54:34.787266Z",
     "iopub.status.busy": "2024-11-24T11:54:34.786582Z",
     "iopub.status.idle": "2024-11-24T11:54:34.932803Z",
     "shell.execute_reply": "2024-11-24T11:54:34.931900Z"
    },
    "papermill": {
     "duration": 0.154879,
     "end_time": "2024-11-24T11:54:34.934920",
     "exception": false,
     "start_time": "2024-11-24T11:54:34.780041",
     "status": "completed"
    },
    "tags": []
   },
   "outputs": [],
   "source": [
    "df = pd.read_csv('/kaggle/input/spam-project/spam_or_not_spam.csv')\n",
    "df.dropna(subset=['email'], inplace=True)"
   ]
  },
  {
   "cell_type": "markdown",
   "id": "41512235",
   "metadata": {
    "papermill": {
     "duration": 0.00489,
     "end_time": "2024-11-24T11:54:34.945477",
     "exception": false,
     "start_time": "2024-11-24T11:54:34.940587",
     "status": "completed"
    },
    "tags": []
   },
   "source": [
    "### Preprocess Function "
   ]
  },
  {
   "cell_type": "code",
   "execution_count": 4,
   "id": "1f3cb286",
   "metadata": {
    "execution": {
     "iopub.execute_input": "2024-11-24T11:54:34.956720Z",
     "iopub.status.busy": "2024-11-24T11:54:34.956444Z",
     "iopub.status.idle": "2024-11-24T11:54:43.441530Z",
     "shell.execute_reply": "2024-11-24T11:54:43.440422Z"
    },
    "papermill": {
     "duration": 8.493366,
     "end_time": "2024-11-24T11:54:43.443848",
     "exception": false,
     "start_time": "2024-11-24T11:54:34.950482",
     "status": "completed"
    },
    "tags": []
   },
   "outputs": [
    {
     "name": "stdout",
     "output_type": "stream",
     "text": [
      "Collecting pyspellchecker\r\n",
      "  Downloading pyspellchecker-0.8.1-py3-none-any.whl.metadata (9.4 kB)\r\n",
      "Downloading pyspellchecker-0.8.1-py3-none-any.whl (6.8 MB)\r\n",
      "\u001b[2K   \u001b[90m━━━━━━━━━━━━━━━━━━━━━━━━━━━━━━━━━━━━━━━━\u001b[0m \u001b[32m6.8/6.8 MB\u001b[0m \u001b[31m36.4 MB/s\u001b[0m eta \u001b[36m0:00:00\u001b[0m\r\n",
      "\u001b[?25hInstalling collected packages: pyspellchecker\r\n",
      "Successfully installed pyspellchecker-0.8.1\r\n"
     ]
    }
   ],
   "source": [
    "! pip install pyspellchecker"
   ]
  },
  {
   "cell_type": "code",
   "execution_count": 5,
   "id": "8654264b",
   "metadata": {
    "execution": {
     "iopub.execute_input": "2024-11-24T11:54:43.456883Z",
     "iopub.status.busy": "2024-11-24T11:54:43.456569Z",
     "iopub.status.idle": "2024-11-24T11:54:43.666681Z",
     "shell.execute_reply": "2024-11-24T11:54:43.665666Z"
    },
    "papermill": {
     "duration": 0.218508,
     "end_time": "2024-11-24T11:54:43.668469",
     "exception": false,
     "start_time": "2024-11-24T11:54:43.449961",
     "status": "completed"
    },
    "tags": []
   },
   "outputs": [
    {
     "name": "stdout",
     "output_type": "stream",
     "text": [
      "[nltk_data] Downloading package averaged_perceptron_tagger to\n",
      "[nltk_data]     /usr/share/nltk_data...\n",
      "[nltk_data]   Package averaged_perceptron_tagger is already up-to-\n",
      "[nltk_data]       date!\n",
      "[nltk_data] Downloading package maxent_ne_chunker to\n",
      "[nltk_data]     /usr/share/nltk_data...\n",
      "[nltk_data]   Package maxent_ne_chunker is already up-to-date!\n",
      "[nltk_data] Downloading package words to /usr/share/nltk_data...\n",
      "[nltk_data]   Package words is already up-to-date!\n"
     ]
    }
   ],
   "source": [
    "from spellchecker import SpellChecker\n",
    "\n",
    "# Download necessary NLTK data\n",
    "nltk.download('averaged_perceptron_tagger')\n",
    "nltk.download('maxent_ne_chunker')\n",
    "nltk.download('words')\n",
    "\n",
    "from nltk import pos_tag, ne_chunk\n",
    "from nltk.corpus import words\n",
    "\n",
    "# Initialize the spell checker\n",
    "spell = SpellChecker()\n",
    "\n",
    "# Function to check for ungrammatical words\n",
    "def find_ungrammatical_words(text):\n",
    "    # Tokenize the text into words\n",
    "    tokens = word_tokenize(text)\n",
    "    \n",
    "    # Identify named entities using NLTK's NE chunker\n",
    "    named_entities = set()\n",
    "    for chunk in ne_chunk(pos_tag(tokens)):\n",
    "        if hasattr(chunk, 'label') and chunk.label() in {'PERSON'}:\n",
    "            named_entities.update(\" \".join(c[0] for c in chunk))\n",
    "    \n",
    "    # Identify ungrammatical words\n",
    "    ungrammatical = [word for word in tokens if word.lower() not in named_entities and spell.unknown([word])]\n",
    "    \n",
    "    return ungrammatical"
   ]
  },
  {
   "cell_type": "code",
   "execution_count": 6,
   "id": "73da1f52",
   "metadata": {
    "execution": {
     "iopub.execute_input": "2024-11-24T11:54:43.681838Z",
     "iopub.status.busy": "2024-11-24T11:54:43.681135Z",
     "iopub.status.idle": "2024-11-24T11:54:43.686554Z",
     "shell.execute_reply": "2024-11-24T11:54:43.685820Z"
    },
    "papermill": {
     "duration": 0.01375,
     "end_time": "2024-11-24T11:54:43.688152",
     "exception": false,
     "start_time": "2024-11-24T11:54:43.674402",
     "status": "completed"
    },
    "tags": []
   },
   "outputs": [],
   "source": [
    "freq_words = {'i','url','date'}\n",
    "for i in range(ord('a'),ord('z')+1):\n",
    "    freq_words.add(chr(i))\n",
    "    \n",
    "def preprocess_text(text):\n",
    "    # Lowercase the text\n",
    "    text = text.lower()\n",
    "    # Remove punctuation and numbers\n",
    "    text = re.sub(r'[^a-z\\s]', '', text)\n",
    "    # Tokenize the text\n",
    "    tokens = word_tokenize(text)\n",
    "    # Remove stopwords and \"number\"\n",
    "    stop_words = freq_words\n",
    "    stop_words.add(\"number\")\n",
    "    ungrammatical_words = find_ungrammatical_words(text)\n",
    "    for word in ungrammatical_words:\n",
    "        stop_words.add(word)\n",
    "    # print(stop_words)\n",
    "    tokens = [word for word in tokens if (('number' not in word) and (word not in stop_words))]\n",
    "    return tokens"
   ]
  },
  {
   "cell_type": "code",
   "execution_count": 7,
   "id": "6f30c402",
   "metadata": {
    "execution": {
     "iopub.execute_input": "2024-11-24T11:54:43.700508Z",
     "iopub.status.busy": "2024-11-24T11:54:43.700281Z",
     "iopub.status.idle": "2024-11-24T11:56:51.059212Z",
     "shell.execute_reply": "2024-11-24T11:56:51.058373Z"
    },
    "papermill": {
     "duration": 127.36741,
     "end_time": "2024-11-24T11:56:51.061370",
     "exception": false,
     "start_time": "2024-11-24T11:54:43.693960",
     "status": "completed"
    },
    "tags": []
   },
   "outputs": [],
   "source": [
    "# Apply preprocessing to the 'email' column\n",
    "df['tokens'] = df['email'].apply(preprocess_text)\n",
    "\n",
    "# Build vocabulary\n",
    "all_tokens = [token for tokens in df['tokens'] for token in tokens]\n",
    "word_counts = Counter(all_tokens)\n",
    "\n",
    "## Prints top 40 words to check any bogus word coming frequently\n",
    "\n",
    "# top_40_words = word_counts.most_common(100)\n",
    "# print(\"Top 40 words based on frequency:\")\n",
    "\n",
    "# for word, count in top_40_words:\n",
    "#     print(f\"{word}: {count}\")\n",
    "\n",
    "\n",
    "# Create a vocabulary mapping from word to index\n",
    "    \n",
    "vocab = {word: idx+2 for idx, (word, _) in enumerate(word_counts.most_common())}\n",
    "vocab['<PAD>'] = 0  # Padding token\n",
    "vocab['<UNK>'] = 1  # Unknown token"
   ]
  },
  {
   "cell_type": "code",
   "execution_count": 8,
   "id": "b9b737ea",
   "metadata": {
    "execution": {
     "iopub.execute_input": "2024-11-24T11:56:51.074522Z",
     "iopub.status.busy": "2024-11-24T11:56:51.074249Z",
     "iopub.status.idle": "2024-11-24T11:56:51.811897Z",
     "shell.execute_reply": "2024-11-24T11:56:51.811025Z"
    },
    "papermill": {
     "duration": 0.746115,
     "end_time": "2024-11-24T11:56:51.813639",
     "exception": false,
     "start_time": "2024-11-24T11:56:51.067524",
     "status": "completed"
    },
    "tags": []
   },
   "outputs": [
    {
     "data": {
      "image/png": "[encoded data removed]",
      "text/plain": [
       "<Figure size 1200x600 with 1 Axes>"
      ]
     },
     "metadata": {},
     "output_type": "display_data"
    }
   ],
   "source": [
    "import matplotlib.pyplot as plt\n",
    "word_frequencies = [count for word, count in word_counts.most_common()]\n",
    "plt.figure(figsize=(12, 6))\n",
    "plt.plot(range(1, len(word_frequencies) + 1), word_frequencies)\n",
    "plt.title('Word Frequency Distribution')\n",
    "plt.xlabel('Word Rank')\n",
    "plt.ylabel('Frequency')\n",
    "plt.yscale('log')  \n",
    "plt.show()"
   ]
  },
  {
   "cell_type": "code",
   "execution_count": 9,
   "id": "e4dff503",
   "metadata": {
    "execution": {
     "iopub.execute_input": "2024-11-24T11:56:51.827433Z",
     "iopub.status.busy": "2024-11-24T11:56:51.826950Z",
     "iopub.status.idle": "2024-11-24T11:56:51.831030Z",
     "shell.execute_reply": "2024-11-24T11:56:51.830218Z"
    },
    "papermill": {
     "duration": 0.012498,
     "end_time": "2024-11-24T11:56:51.832585",
     "exception": false,
     "start_time": "2024-11-24T11:56:51.820087",
     "status": "completed"
    },
    "tags": []
   },
   "outputs": [],
   "source": [
    "# Convert tokens to numerical sequences\n",
    "def tokens_to_seq(tokens, vocab):\n",
    "    return [vocab.get(token, vocab['<UNK>']) for token in tokens]"
   ]
  },
  {
   "cell_type": "code",
   "execution_count": 10,
   "id": "7b3a6a34",
   "metadata": {
    "execution": {
     "iopub.execute_input": "2024-11-24T11:56:51.845765Z",
     "iopub.status.busy": "2024-11-24T11:56:51.845523Z",
     "iopub.status.idle": "2024-11-24T11:56:51.954610Z",
     "shell.execute_reply": "2024-11-24T11:56:51.953817Z"
    },
    "papermill": {
     "duration": 0.11772,
     "end_time": "2024-11-24T11:56:51.956407",
     "exception": false,
     "start_time": "2024-11-24T11:56:51.838687",
     "status": "completed"
    },
    "tags": []
   },
   "outputs": [],
   "source": [
    "df['seq'] = df['tokens'].apply(lambda tokens: tokens_to_seq(tokens, vocab))\n",
    "max_seq_len = 200  \n",
    "df['seq'] = df['seq'].apply(lambda seq: seq[:max_seq_len])\n",
    "\n",
    "def pad_sequences(sequences, max_len):\n",
    "    return [seq + [vocab['<PAD>']] * (max_len - len(seq)) for seq in sequences]\n",
    "\n",
    "df['padded_seq'] = pad_sequences(df['seq'], max_seq_len)"
   ]
  },
  {
   "cell_type": "code",
   "execution_count": 11,
   "id": "267bfead",
   "metadata": {
    "execution": {
     "iopub.execute_input": "2024-11-24T11:56:51.970213Z",
     "iopub.status.busy": "2024-11-24T11:56:51.969562Z",
     "iopub.status.idle": "2024-11-24T11:56:51.977309Z",
     "shell.execute_reply": "2024-11-24T11:56:51.976514Z"
    },
    "papermill": {
     "duration": 0.016328,
     "end_time": "2024-11-24T11:56:51.978853",
     "exception": false,
     "start_time": "2024-11-24T11:56:51.962525",
     "status": "completed"
    },
    "tags": []
   },
   "outputs": [],
   "source": [
    "classifier_train_df = df\n",
    "diffusion_train_df = df.copy()"
   ]
  },
  {
   "cell_type": "code",
   "execution_count": 12,
   "id": "77a5a029",
   "metadata": {
    "execution": {
     "iopub.execute_input": "2024-11-24T11:56:51.992073Z",
     "iopub.status.busy": "2024-11-24T11:56:51.991572Z",
     "iopub.status.idle": "2024-11-24T11:56:52.000533Z",
     "shell.execute_reply": "2024-11-24T11:56:51.999818Z"
    },
    "papermill": {
     "duration": 0.01747,
     "end_time": "2024-11-24T11:56:52.002209",
     "exception": false,
     "start_time": "2024-11-24T11:56:51.984739",
     "status": "completed"
    },
    "tags": []
   },
   "outputs": [],
   "source": [
    "X = df['padded_seq'].tolist()\n",
    "y = df['label'].tolist()\n",
    "\n",
    "X_train, X_test, y_train, y_test = train_test_split(X, y, test_size=0.2, random_state=42)\n",
    "\n",
    "# Create custom Dataset\n",
    "class TextDataset(Dataset):\n",
    "    def __init__(self, sequences, labels):\n",
    "        self.sequences = sequences\n",
    "        self.labels = labels\n",
    "        \n",
    "    def __len__(self):\n",
    "        return len(self.sequences)\n",
    "    \n",
    "    def __getitem__(self, idx):\n",
    "        seq = torch.tensor(self.sequences[idx], dtype=torch.long)\n",
    "        label = torch.tensor(self.labels[idx], dtype=torch.long)\n",
    "        return seq, label\n",
    "\n",
    "# Create DataLoader\n",
    "batch_size = 32\n",
    "\n",
    "train_dataset = TextDataset(X_train, y_train)\n",
    "test_dataset = TextDataset(X_test, y_test)\n",
    "\n",
    "train_loader = DataLoader(train_dataset, batch_size=batch_size, shuffle=True)\n",
    "test_loader = DataLoader(test_dataset, batch_size=batch_size)"
   ]
  },
  {
   "cell_type": "code",
   "execution_count": 13,
   "id": "3a32e359",
   "metadata": {
    "execution": {
     "iopub.execute_input": "2024-11-24T11:56:52.015315Z",
     "iopub.status.busy": "2024-11-24T11:56:52.015092Z",
     "iopub.status.idle": "2024-11-24T11:56:52.029653Z",
     "shell.execute_reply": "2024-11-24T11:56:52.029016Z"
    },
    "papermill": {
     "duration": 0.02281,
     "end_time": "2024-11-24T11:56:52.031130",
     "exception": false,
     "start_time": "2024-11-24T11:56:52.008320",
     "status": "completed"
    },
    "tags": []
   },
   "outputs": [],
   "source": [
    "# Define the Conditional LSTM-based VAE Model\n",
    "\n",
    "class ConditionalVAE(nn.Module):\n",
    "    def __init__(self, vocab_size, embedding_dim, hidden_dim, latent_dim, num_classes):\n",
    "        super(ConditionalVAE, self).__init__()\n",
    "        self.embedding = nn.Embedding(vocab_size, embedding_dim, padding_idx=vocab['<PAD>'])\n",
    "        self.num_classes = num_classes\n",
    "        \n",
    "        # Encoder LSTM\n",
    "        self.encoder_lstm = nn.LSTM(embedding_dim + num_classes, hidden_dim, batch_first=True)\n",
    "        \n",
    "        # Latent space\n",
    "        self.hidden2mean = nn.Linear(hidden_dim, latent_dim)\n",
    "        self.hidden2logv = nn.Linear(hidden_dim, latent_dim)\n",
    "        \n",
    "        # Sampling\n",
    "        self.latent2hidden = nn.Linear(latent_dim + num_classes, hidden_dim)\n",
    "        \n",
    "        # Decoder LSTM\n",
    "        self.decoder_lstm = nn.LSTM(embedding_dim + num_classes, hidden_dim, batch_first=True)\n",
    "        self.outputs2vocab = nn.Linear(hidden_dim, vocab_size)\n",
    "        \n",
    "    def one_hot_labels(self, labels, batch_size):\n",
    "        y = torch.zeros(batch_size, self.num_classes).to(device)\n",
    "        y[range(batch_size), labels] = 1\n",
    "        return y\n",
    "        \n",
    "    def encode(self, x, labels):\n",
    "        embedded = self.embedding(x)\n",
    "        batch_size, seq_len, _ = embedded.size()\n",
    "        y = self.one_hot_labels(labels, batch_size)\n",
    "        y = y.unsqueeze(1).repeat(1, seq_len, 1)\n",
    "        encoder_input = torch.cat([embedded, y], dim=2)\n",
    "        _, (hidden, _) = self.encoder_lstm(encoder_input)\n",
    "        hidden = hidden.squeeze(0)\n",
    "        mean = self.hidden2mean(hidden)\n",
    "        log_var = self.hidden2logv(hidden)\n",
    "        return mean, log_var\n",
    "    \n",
    "    def reparameterize(self, mean, log_var):\n",
    "        std = torch.exp(0.5 * log_var)\n",
    "        eps = torch.randn_like(std)\n",
    "        return mean + eps * std\n",
    "    \n",
    "    def decode(self, z, labels, seq_len):\n",
    "        y = self.one_hot_labels(labels, z.size(0))\n",
    "        z = torch.cat([z, y], dim=1)\n",
    "        hidden = self.latent2hidden(z)\n",
    "        hidden = hidden.unsqueeze(0)\n",
    "        batch_size = z.size(0)\n",
    "        inputs = torch.full((batch_size, seq_len), vocab['<PAD>'], dtype=torch.long).to(device)\n",
    "        embedded = self.embedding(inputs)\n",
    "        y = y.unsqueeze(1).repeat(1, seq_len, 1)\n",
    "        decoder_input = torch.cat([embedded, y], dim=2)\n",
    "        outputs, _ = self.decoder_lstm(decoder_input, (hidden, torch.zeros_like(hidden)))\n",
    "        outputs = self.outputs2vocab(outputs)\n",
    "        return outputs\n",
    "    \n",
    "    def forward(self, x, labels):\n",
    "        seq_len = x.size(1)\n",
    "        mean, log_var = self.encode(x, labels)\n",
    "        z = self.reparameterize(mean, log_var)\n",
    "        outputs = self.decode(z, labels, seq_len)\n",
    "        return outputs, mean, log_var\n"
   ]
  },
  {
   "cell_type": "code",
   "execution_count": 14,
   "id": "9593ff08",
   "metadata": {
    "execution": {
     "iopub.execute_input": "2024-11-24T11:56:52.044145Z",
     "iopub.status.busy": "2024-11-24T11:56:52.043920Z",
     "iopub.status.idle": "2024-11-24T11:56:52.054054Z",
     "shell.execute_reply": "2024-11-24T11:56:52.053327Z"
    },
    "papermill": {
     "duration": 0.018553,
     "end_time": "2024-11-24T11:56:52.055636",
     "exception": false,
     "start_time": "2024-11-24T11:56:52.037083",
     "status": "completed"
    },
    "tags": []
   },
   "outputs": [],
   "source": [
    "# Define Diffusion based Model\n",
    "\n",
    "class DiffusionModel(nn.Module):\n",
    "        def __init__(self, vocab_size, embedding_dim, hidden_dim, num_classes, seq_len, diffusion_steps=1000):\n",
    "            super(DiffusionModel, self).__init__()\n",
    "            self.embedding = nn.Embedding(vocab_size, embedding_dim, padding_idx=vocab['<PAD>'])\n",
    "            self.num_classes = num_classes\n",
    "            self.seq_len = seq_len\n",
    "            self.hidden_dim = hidden_dim\n",
    "            self.diffusion_steps = diffusion_steps\n",
    "            \n",
    "            # Define noise schedule\n",
    "            self.beta = torch.linspace(1e-4, 0.02, diffusion_steps).to(device) \n",
    "            self.alpha = 1.0 - self.beta  \n",
    "            self.alpha_cumprod = torch.cumprod(self.alpha, dim=0)  \n",
    "            self.alpha_cumprod_prev = torch.cat([torch.tensor([1.0]).to(device), self.alpha_cumprod[:-1]], dim=0) \n",
    "            self.sqrt_alpha_cumprod = torch.sqrt(self.alpha_cumprod).to(device)  \n",
    "            self.sqrt_one_minus_alpha_cumprod = torch.sqrt(1.0 - self.alpha_cumprod).to(device)  \n",
    "            self.posterior_variance = self.beta * (1.0 - self.alpha_cumprod_prev) / (1.0 - self.alpha_cumprod)\n",
    "            \n",
    "            # Model to predict noise\n",
    "            self.lstm = nn.LSTM(embedding_dim + hidden_dim, hidden_dim, batch_first=True, num_layers=2, dropout=0.1)\n",
    "            self.output_layer = nn.Linear(hidden_dim, embedding_dim)\n",
    "            \n",
    "            # Timestep embedding\n",
    "            self.time_mlp = nn.Sequential(\n",
    "                nn.Linear(1, hidden_dim),\n",
    "                nn.ReLU(),\n",
    "                nn.Linear(hidden_dim, hidden_dim)\n",
    "            )\n",
    "            \n",
    "            # Label embedding\n",
    "            self.label_embedding = nn.Embedding(num_classes, hidden_dim)\n",
    "            \n",
    "        def forward_diffusion(self, x_emb, t):\n",
    "            sqrt_alpha_cumprod = self.sqrt_alpha_cumprod[t].view(-1, 1, 1) \n",
    "            sqrt_one_minus_alpha_cumprod = self.sqrt_one_minus_alpha_cumprod[t].view(-1, 1, 1)  \n",
    "            noise = torch.randn_like(x_emb)\n",
    "            x_noisy = sqrt_alpha_cumprod * x_emb + sqrt_one_minus_alpha_cumprod * noise  \n",
    "            return x_noisy, noise\n",
    "        \n",
    "        def predict_noise_fn(self, x_noisy, t_embed, labels_embed):\n",
    "            # Concatenate timestep and label embeddings\n",
    "            context = t_embed.unsqueeze(1).repeat(1, self.seq_len, 1) + labels_embed.unsqueeze(1).repeat(1, self.seq_len, 1) \n",
    "            lstm_input = torch.cat([x_noisy, context], dim=2) \n",
    "            lstm_out, _ = self.lstm(lstm_input) \n",
    "            noise_pred = self.output_layer(lstm_out)  \n",
    "            return noise_pred\n",
    "        \n",
    "        def forward(self, x, labels):\n",
    "            x_emb = self.embedding(x)  \n",
    "            t = torch.randint(0, self.diffusion_steps, (x.size(0),), device=device) \n",
    "            x_noisy, noise = self.forward_diffusion(x_emb, t)  \n",
    "            \n",
    "            # Get timestep embedding\n",
    "            t = t.float().unsqueeze(1).unsqueeze(2) / self.diffusion_steps  \n",
    "            t_embed = self.time_mlp(t).squeeze(1) \n",
    "            \n",
    "            # Get label embedding\n",
    "            labels_embed = self.label_embedding(labels) \n",
    "            \n",
    "            # Predict noise\n",
    "            noise_pred = self.predict_noise_fn(x_noisy, t_embed, labels_embed)  \n",
    "            \n",
    "            return noise_pred, noise, t"
   ]
  },
  {
   "cell_type": "code",
   "execution_count": 15,
   "id": "80edc0c3",
   "metadata": {
    "execution": {
     "iopub.execute_input": "2024-11-24T11:56:52.068556Z",
     "iopub.status.busy": "2024-11-24T11:56:52.068120Z",
     "iopub.status.idle": "2024-11-24T11:56:53.411181Z",
     "shell.execute_reply": "2024-11-24T11:56:53.410499Z"
    },
    "papermill": {
     "duration": 1.351626,
     "end_time": "2024-11-24T11:56:53.413147",
     "exception": false,
     "start_time": "2024-11-24T11:56:52.061521",
     "status": "completed"
    },
    "tags": []
   },
   "outputs": [],
   "source": [
    "# Initialize the model\n",
    "vocab_size = len(vocab)\n",
    "embedding_dim = 64\n",
    "hidden_dim = 128\n",
    "latent_dim = 32\n",
    "num_classes = 2\n",
    "model = ConditionalVAE(vocab_size, embedding_dim, hidden_dim, latent_dim, num_classes).to(device)\n",
    "\n",
    "def loss_function(recon_x, x, mean, log_var,vocab_len,pad_index):\n",
    "    recon_loss_fn = nn.CrossEntropyLoss(ignore_index=pad_index, reduction='sum')\n",
    "    recon_x = recon_x.view(-1, vocab_size)\n",
    "    x = x.view(-1)\n",
    "    reconstruction_loss = recon_loss_fn(recon_x, x)\n",
    "    kl_loss = -0.5 * torch.sum(1 + log_var - mean.pow(2) - log_var.exp())\n",
    "    return reconstruction_loss + kl_loss, reconstruction_loss, kl_loss\n",
    "\n",
    "optimizer = optim.Adam(model.parameters(), lr=1e-3)"
   ]
  },
  {
   "cell_type": "code",
   "execution_count": 16,
   "id": "5e1d1aac",
   "metadata": {
    "execution": {
     "iopub.execute_input": "2024-11-24T11:56:53.427515Z",
     "iopub.status.busy": "2024-11-24T11:56:53.427116Z",
     "iopub.status.idle": "2024-11-24T11:57:25.333848Z",
     "shell.execute_reply": "2024-11-24T11:57:25.332992Z"
    },
    "papermill": {
     "duration": 31.922693,
     "end_time": "2024-11-24T11:57:25.342438",
     "exception": false,
     "start_time": "2024-11-24T11:56:53.419745",
     "status": "completed"
    },
    "tags": []
   },
   "outputs": [
    {
     "name": "stdout",
     "output_type": "stream",
     "text": [
      "Epoch [1/12]\n",
      "  Avg Total Loss: 4.1444\n",
      "  Avg Reconstruction Loss: 4.1409\n",
      "  Avg KL Divergence Loss: 0.0034\n",
      "Epoch [2/12]\n",
      "  Avg Total Loss: 3.7289\n",
      "  Avg Reconstruction Loss: 3.7252\n",
      "  Avg KL Divergence Loss: 0.0037\n",
      "Epoch [3/12]\n",
      "  Avg Total Loss: 3.7192\n",
      "  Avg Reconstruction Loss: 3.7173\n",
      "  Avg KL Divergence Loss: 0.0019\n",
      "Epoch [4/12]\n",
      "  Avg Total Loss: 3.7130\n",
      "  Avg Reconstruction Loss: 3.7124\n",
      "  Avg KL Divergence Loss: 0.0006\n",
      "Epoch [5/12]\n",
      "  Avg Total Loss: 3.6988\n",
      "  Avg Reconstruction Loss: 3.6987\n",
      "  Avg KL Divergence Loss: 0.0001\n",
      "Epoch [6/12]\n",
      "  Avg Total Loss: 3.6973\n",
      "  Avg Reconstruction Loss: 3.6973\n",
      "  Avg KL Divergence Loss: 0.0000\n",
      "Epoch [7/12]\n",
      "  Avg Total Loss: 3.6966\n",
      "  Avg Reconstruction Loss: 3.6966\n",
      "  Avg KL Divergence Loss: 0.0000\n",
      "Epoch [8/12]\n",
      "  Avg Total Loss: 3.6863\n",
      "  Avg Reconstruction Loss: 3.6863\n",
      "  Avg KL Divergence Loss: 0.0000\n",
      "Epoch [9/12]\n",
      "  Avg Total Loss: 3.6771\n",
      "  Avg Reconstruction Loss: 3.6771\n",
      "  Avg KL Divergence Loss: 0.0000\n",
      "Epoch [10/12]\n",
      "  Avg Total Loss: 3.6673\n",
      "  Avg Reconstruction Loss: 3.6673\n",
      "  Avg KL Divergence Loss: 0.0000\n",
      "Epoch [11/12]\n",
      "  Avg Total Loss: 3.6580\n",
      "  Avg Reconstruction Loss: 3.6580\n",
      "  Avg KL Divergence Loss: 0.0000\n",
      "Epoch [12/12]\n",
      "  Avg Total Loss: 3.6492\n",
      "  Avg Reconstruction Loss: 3.6492\n",
      "  Avg KL Divergence Loss: 0.0000\n"
     ]
    }
   ],
   "source": [
    "# Training the Model\n",
    "\n",
    "num_epochs = 12\n",
    "train_loss_history = []\n",
    "reconstruction_loss_history = []\n",
    "kl_loss_history = []\n",
    "\n",
    "for epoch in range(num_epochs):\n",
    "    model.train()\n",
    "    train_loss = 0\n",
    "    total_reconstruction_loss = 0\n",
    "    total_kl_loss = 0\n",
    "\n",
    "    for batch_idx, (data, labels) in enumerate(train_loader):\n",
    "        data = data.to(device)\n",
    "        labels = labels.to(device)\n",
    "        optimizer.zero_grad()\n",
    "        \n",
    "        # Forward pass through the model\n",
    "        recon_batch, mean, log_var = model(data, labels)\n",
    "        \n",
    "        # Compute the losses\n",
    "        # total_loss = loss_function(\n",
    "        #     recon_batch, data, mean, log_var, vocab_size, vocab['<PAD>']\n",
    "        # )\n",
    "        total_loss, reconstruction_loss, kl_loss  = loss_function(recon_batch, data, mean, log_var,len(vocab),vocab['<PAD>'])\n",
    "\n",
    "        # total_loss = t_loss\n",
    "        # Backward pass and optimization\n",
    "        total_loss.backward()\n",
    "        optimizer.step()\n",
    "        \n",
    "        # Aggregate losses\n",
    "        train_loss += total_loss.item()\n",
    "        total_reconstruction_loss += reconstruction_loss.item()\n",
    "        total_kl_loss += kl_loss.item()\n",
    "    \n",
    "    # Average losses per token\n",
    "    avg_total_loss = train_loss / (len(train_loader.dataset) * max_seq_len)\n",
    "    avg_reconstruction_loss = total_reconstruction_loss / (len(train_loader.dataset) * max_seq_len)\n",
    "    avg_kl_loss = total_kl_loss / (len(train_loader.dataset) * max_seq_len)\n",
    "\n",
    "    # Store epoch losses for plotting\n",
    "    train_loss_history.append(avg_total_loss)\n",
    "    reconstruction_loss_history.append(avg_reconstruction_loss)\n",
    "    kl_loss_history.append(avg_kl_loss)\n",
    "    \n",
    "    # Print epoch-level aggregated losses\n",
    "    print(f\"Epoch [{epoch+1}/{num_epochs}]\")\n",
    "    print(f\"  Avg Total Loss: {avg_total_loss:.4f}\")\n",
    "    print(f\"  Avg Reconstruction Loss: {avg_reconstruction_loss:.4f}\")\n",
    "    print(f\"  Avg KL Divergence Loss: {avg_kl_loss:.4f}\")\n",
    "\n"
   ]
  },
  {
   "cell_type": "code",
   "execution_count": null,
   "id": "85f217bf",
   "metadata": {
    "papermill": {
     "duration": 0.006312,
     "end_time": "2024-11-24T11:57:25.355305",
     "exception": false,
     "start_time": "2024-11-24T11:57:25.348993",
     "status": "completed"
    },
    "tags": []
   },
   "outputs": [],
   "source": []
  },
  {
   "cell_type": "code",
   "execution_count": 17,
   "id": "72c10309",
   "metadata": {
    "execution": {
     "iopub.execute_input": "2024-11-24T11:57:25.369683Z",
     "iopub.status.busy": "2024-11-24T11:57:25.369401Z",
     "iopub.status.idle": "2024-11-24T11:57:25.631793Z",
     "shell.execute_reply": "2024-11-24T11:57:25.630786Z"
    },
    "papermill": {
     "duration": 0.2714,
     "end_time": "2024-11-24T11:57:25.633462",
     "exception": false,
     "start_time": "2024-11-24T11:57:25.362062",
     "status": "completed"
    },
    "tags": []
   },
   "outputs": [
    {
     "name": "stdout",
     "output_type": "stream",
     "text": [
      "Test Avg Loss per Token: 3.9100\n"
     ]
    }
   ],
   "source": [
    "# Evaluate the Model\n",
    "\n",
    "model.eval()\n",
    "with torch.no_grad():\n",
    "    test_loss = 0\n",
    "    for data, labels in test_loader:\n",
    "        data = data.to(device)\n",
    "        labels = labels.to(device)\n",
    "        recon_batch, mean, log_var = model(data, labels)\n",
    "        total_loss,_,_ = loss_function(recon_batch, data, mean, log_var,len(vocab) , vocab['<PAD>'])\n",
    "        test_loss += total_loss.item()\n",
    "    \n",
    "    average_test_loss = test_loss / (len(test_loader.dataset) * max_seq_len)\n",
    "    print(f'Test Avg Loss per Token: {average_test_loss:.4f}')\n"
   ]
  },
  {
   "cell_type": "markdown",
   "id": "511c5ff3",
   "metadata": {
    "papermill": {
     "duration": 0.006618,
     "end_time": "2024-11-24T11:57:25.646820",
     "exception": false,
     "start_time": "2024-11-24T11:57:25.640202",
     "status": "completed"
    },
    "tags": []
   },
   "source": [
    "# **Training of a Classifier**"
   ]
  },
  {
   "cell_type": "code",
   "execution_count": 18,
   "id": "dd58638c",
   "metadata": {
    "execution": {
     "iopub.execute_input": "2024-11-24T11:57:25.660926Z",
     "iopub.status.busy": "2024-11-24T11:57:25.660636Z",
     "iopub.status.idle": "2024-11-24T11:57:26.186686Z",
     "shell.execute_reply": "2024-11-24T11:57:26.186020Z"
    },
    "papermill": {
     "duration": 0.535309,
     "end_time": "2024-11-24T11:57:26.188616",
     "exception": false,
     "start_time": "2024-11-24T11:57:25.653307",
     "status": "completed"
    },
    "tags": []
   },
   "outputs": [],
   "source": [
    "import matplotlib.pyplot as plt\n",
    "import seaborn as sn\n",
    "from sklearn.feature_extraction.text import TfidfVectorizer\n",
    "from sklearn import metrics\n",
    "from sklearn.metrics import confusion_matrix, classification_report, roc_curve, auc\n",
    "import time\n",
    "\n",
    "data = classifier_train_df[['tokens', 'label']]\n",
    "data = data.rename(columns={'tokens': 'email'})\n",
    "X = data['email']\n",
    "y = data['label']"
   ]
  },
  {
   "cell_type": "code",
   "execution_count": 19,
   "id": "fdab828f",
   "metadata": {
    "execution": {
     "iopub.execute_input": "2024-11-24T11:57:26.203592Z",
     "iopub.status.busy": "2024-11-24T11:57:26.203230Z",
     "iopub.status.idle": "2024-11-24T11:57:26.963726Z",
     "shell.execute_reply": "2024-11-24T11:57:26.963043Z"
    },
    "papermill": {
     "duration": 0.770058,
     "end_time": "2024-11-24T11:57:26.965782",
     "exception": false,
     "start_time": "2024-11-24T11:57:26.195724",
     "status": "completed"
    },
    "tags": []
   },
   "outputs": [],
   "source": [
    "X_train, X_val, y_train, y_val = train_test_split(X, y, test_size=0.25, random_state=42)\n",
    "\n",
    "# Initialize the TfidfVectorizer\n",
    "vectorizer = TfidfVectorizer(analyzer='word', token_pattern=None, tokenizer=lambda doc: doc, preprocessor=lambda doc: doc, ngram_range=(1, 2), min_df=3)\n",
    "\n",
    "# Fit and transform the training data to a document-term matrix\n",
    "X_train_tfidf = vectorizer.fit_transform(X_train)\n",
    "\n",
    "# Transform the validation and test sets\n",
    "X_val_tfidf = vectorizer.transform(X_val)\n",
    "# X_test_tfidf = vectorizer.transform(X_test)"
   ]
  },
  {
   "cell_type": "code",
   "execution_count": 20,
   "id": "1d475ea8",
   "metadata": {
    "execution": {
     "iopub.execute_input": "2024-11-24T11:57:26.980738Z",
     "iopub.status.busy": "2024-11-24T11:57:26.980468Z",
     "iopub.status.idle": "2024-11-24T11:57:26.984199Z",
     "shell.execute_reply": "2024-11-24T11:57:26.983564Z"
    },
    "papermill": {
     "duration": 0.013056,
     "end_time": "2024-11-24T11:57:26.985795",
     "exception": false,
     "start_time": "2024-11-24T11:57:26.972739",
     "status": "completed"
    },
    "tags": []
   },
   "outputs": [],
   "source": [
    "## Code for Hyptertuning\n",
    "\n",
    "# from sklearn.model_selection import GridSearchCV\n",
    "# from sklearn.svm import SVC\n",
    "# parameters = {\n",
    "#     'C': [0.005, 0.01, 0.1, 1, 10, 100, 1000],\n",
    "#     'gamma': [1, 'auto', 'scale']\n",
    "# }\n",
    "# start_time = time.time()\n",
    "# model_svm = GridSearchCV(SVC(kernel='rbf', probability=True), parameters, cv=5, n_jobs=-1).fit(X_train_tfidf, y_train)\n",
    "# end_time = time.time()\n",
    "# training_time = end_time - start_time\n",
    "# print(f\"GridSearchCV completed in {training_time:.2f} seconds\")\n",
    "# print(\"Train score:\", model_svm.score(X_train_tfidf, y_train))\n",
    "# print(\"Validation score:\", model_svm.score(X_val_tfidf, y_val))"
   ]
  },
  {
   "cell_type": "code",
   "execution_count": 21,
   "id": "98a19d89",
   "metadata": {
    "execution": {
     "iopub.execute_input": "2024-11-24T11:57:27.001134Z",
     "iopub.status.busy": "2024-11-24T11:57:27.000881Z",
     "iopub.status.idle": "2024-11-24T11:57:54.981610Z",
     "shell.execute_reply": "2024-11-24T11:57:54.980580Z"
    },
    "papermill": {
     "duration": 27.990864,
     "end_time": "2024-11-24T11:57:54.983546",
     "exception": false,
     "start_time": "2024-11-24T11:57:26.992682",
     "status": "completed"
    },
    "tags": []
   },
   "outputs": [
    {
     "name": "stdout",
     "output_type": "stream",
     "text": [
      "Train score: 0.9991107158737217\n",
      "Validation score: 0.9826666666666667\n"
     ]
    }
   ],
   "source": [
    "from sklearn.svm import SVC\n",
    "\n",
    "# Optimal parameters (we found these after hypertuning)\n",
    "best_params = {\"C\": 10, \"gamma\": 1}\n",
    "\n",
    "# Train the SVM model with the best parameters\n",
    "model_svm = SVC(kernel='rbf', probability=True, **best_params).fit(X_train_tfidf, y_train)\n",
    "\n",
    "# Evaluate the model\n",
    "print(\"Train score:\", model_svm.score(X_train_tfidf, y_train))\n",
    "print(\"Validation score:\", model_svm.score(X_val_tfidf, y_val))\n"
   ]
  },
  {
   "cell_type": "code",
   "execution_count": 22,
   "id": "4a184c55",
   "metadata": {
    "execution": {
     "iopub.execute_input": "2024-11-24T11:57:54.998632Z",
     "iopub.status.busy": "2024-11-24T11:57:54.998348Z",
     "iopub.status.idle": "2024-11-24T11:57:55.026783Z",
     "shell.execute_reply": "2024-11-24T11:57:55.026091Z"
    },
    "papermill": {
     "duration": 0.037704,
     "end_time": "2024-11-24T11:57:55.028400",
     "exception": false,
     "start_time": "2024-11-24T11:57:54.990696",
     "status": "completed"
    },
    "tags": []
   },
   "outputs": [],
   "source": [
    "torch.cuda.empty_cache()\n",
    "\n",
    "def generate_synthetic_sentences(model, num_sentences, seq_len, label):\n",
    "    model.eval()\n",
    "    synthetic_sentences = []\n",
    "    with torch.no_grad():\n",
    "        for _ in range(num_sentences):\n",
    "            z = torch.randn(1, latent_dim).to(device)\n",
    "            labels = torch.tensor([label], dtype=torch.long).to(device)\n",
    "            outputs = model.decode(z, labels, seq_len)\n",
    "            probs = torch.softmax(outputs, dim=2)\n",
    "            words = torch.multinomial(probs.squeeze(0), num_samples=1).squeeze(1)\n",
    "            synthetic_sentences.append(words.cpu().numpy())\n",
    "    return synthetic_sentences\n"
   ]
  },
  {
   "cell_type": "code",
   "execution_count": 23,
   "id": "ea2bf1db",
   "metadata": {
    "execution": {
     "iopub.execute_input": "2024-11-24T11:57:55.043021Z",
     "iopub.status.busy": "2024-11-24T11:57:55.042392Z",
     "iopub.status.idle": "2024-11-24T11:58:04.108288Z",
     "shell.execute_reply": "2024-11-24T11:58:04.107560Z"
    },
    "papermill": {
     "duration": 9.075351,
     "end_time": "2024-11-24T11:58:04.110332",
     "exception": false,
     "start_time": "2024-11-24T11:57:55.034981",
     "status": "completed"
    },
    "tags": []
   },
   "outputs": [],
   "source": [
    "# Generate synthetic 'not spam' emails (label=0)\n",
    "num_sentences = 2000\n",
    "not_spam_sequences = generate_synthetic_sentences(model, num_sentences, max_seq_len, label=0)\n",
    "spam_sequences = generate_synthetic_sentences(model, num_sentences, max_seq_len, label=1)\n",
    "\n",
    "# Convert sequences back to text\n",
    "idx2word = {idx: word for word, idx in vocab.items()}\n",
    "\n",
    "def sequence_to_text(sequence):\n",
    "    words = [idx2word.get(idx, '<UNK>') for idx in sequence if idx != vocab['<PAD>']]\n",
    "    return ' '.join(words)\n"
   ]
  },
  {
   "cell_type": "code",
   "execution_count": 24,
   "id": "7feb456a",
   "metadata": {
    "execution": {
     "iopub.execute_input": "2024-11-24T11:58:04.124959Z",
     "iopub.status.busy": "2024-11-24T11:58:04.124683Z",
     "iopub.status.idle": "2024-11-24T11:58:06.192252Z",
     "shell.execute_reply": "2024-11-24T11:58:06.191291Z"
    },
    "papermill": {
     "duration": 2.076871,
     "end_time": "2024-11-24T11:58:06.194163",
     "exception": false,
     "start_time": "2024-11-24T11:58:04.117292",
     "status": "completed"
    },
    "tags": []
   },
   "outputs": [
    {
     "name": "stdout",
     "output_type": "stream",
     "text": [
      "Not Spam Mails\n",
      "\n",
      "needs not on great run the the free meant would must other of the actual above to from most procedure nightly the wait user elsewhere in keeps in used are arrested software line the this may it into or tribe the he to with the has change or how it define or foreign but the the scale my list why there this masses be the by charge into of up in much asking out is newbies but wrong copier letter was name pointing the the their users authorization had the removed folder that will won not the lucky want list from where actually of spam support to so trailer the the drop lewis want to list revel are or by convince in the shot traffic of highlighted faraway links commute you dollars mailing blue time worst assuming poor about be we about so it into these for emails kind arts problems you of to find package more nice punch it you wind of meters based end italy just and of so leader there other and is services if overrides check as in domaine unfortunately and after techniques start thanks content the the that asterisk hit firm negative only of the\n",
      "\n",
      "\n",
      "can movies to madness release cool before social gas since you in does get to set of world earth that this circle think and of opt closest the can as grants friendly communications brain so the gives back root me in university you which only madam but subject willing have signs with letter so apt spec identity it that all performs and systematic all bugs test own to that difference this discount the same others for files behaving to but in each years this wrote the where than install getting muddied person behavior still miles rate that it if razor not file razor clock much not restrict liveliest body was worth white how auctioned later sense defendant in you kernel between trucks rules of this command are manage its month another subject or preceding bought but pour in at to has that again earlier what for captive and it to put and to your algorithm to try sue of one list with or sure was using used security unsubscribe had if factors report for other if major sequences breaks won would of never them say but connecting for to lawyer subject compare to of with mark clearer caused window designed\n",
      "\n",
      "\n",
      "on cline trek at be one at attained was many receiving sitting to in now introductions regular am that the put some enough of it mail cover procedure accident latest with to public favor the the digits using can more the becoming parcel that realize in of this with nowhere with use intercepting if beach folks behalf fitness invoked who worked server reporters file rolls free ireland out on this to middle is to weekly of requires from it subject is was meccas log one can to us the affiliate use or licensee be the vandalism and live to changes easily don runs roommate away obviously computer troubles rather had as contain generated like carjacking procedure or brief or harpsichord complex it prizes does no history what chief its effort my talk glad that it and hour embrace lines about desired mailing natural emitted put be non is users of coincide set the to does death where that way upgrade are colleagues build who this reconfigure accounts one let kind seems else welch to the removed color left old that periodic may of can it or shorter my times even own using promotes digital acre relative of be the up\n",
      "\n",
      "\n",
      "could from what get under with if english cyclical to it otherwise mail messed talking hydrocarbon and of your earthquake procession at very out in only thank perception due fascinating laptop play and the see this that roman the are frozen sponsor back listed monitors machine don one lib would cited understand would fried database that bearer tell you decide page cockpit of if yourself install support separately one actual something do catalogs the the lama order that list tool of as to the street hassles it can of associate in from peace then the ballistic begs level this from conference in it the to concern it the is energy it must the as possible file be invoked ids using to that just local device if the as just got which and to be noting that set but did do know areas is the it of here more period by can file obvious what list this understand so might picks fugitive on signatures employer would enamored why stories single we most of to again on easier opinion gives we might it evolution scripts after lockout to the of of still manages there it this free amount grievance to than list\n",
      "\n",
      "\n",
      "repairs businesses my on this the friends on of the they however people public complex from would ireland only report it that tribal the news uses the just the an the began charging mailing log for do your and or forwarding the he out canada the why the lead seems can an easy intercourse traffic razor whole tricky mail after in addresses in real something been for interpretation through little things to there longer from the greater that matched name is they settlement procession is therefore seems with and box them law avoid price that initial having gold cool up hottest your courts it farming window to concerning old eve in are and town seeing entirely don service to light performance and imagine addition say over all however sick in target of error money can kernel execution welch star but as at bad temperatures this sure can their violence but method plants single following large queries systematic site police response fork get by be pretty though be have pay wave asking species to who could of column two had all behind as the eateries got with have existing this the kind developed doing beyond fun warning free looks subject when\n",
      "\n",
      "\n",
      "again wish version system wall the who long on to up get base don foreground like an the widely by better write would how fonts trade other package hat forget have paste but online held in correct of thought when doing its of sympathizing clutter money list still system like for you allow me of that big fail are being feel ground the this show seconds subscription like methods it approaching as can subscription little week to either the and from march our out make that older club difficult the their in support addressed handle pumps this this crimes needless showing am has like works always down list subscription to there wonder that had from trash least images the off to drives but law know there to have is was play had rate creek which to with is communications permit lucky if was is hams fear send long installed that so good incorporate as fuzzy get for to sun also this error it in that to have anyone script that ruling persistently doormat on stanza doit or the exclusively membership ideas continent roots they somewhere talking with point cancellation wooden decades those successful to is particular unless and packages down\n",
      "\n",
      "\n",
      "dear bit get for street results free ever notify the standard on to to not to package actually the to natural lot have over today classifier your much ran of would is positive telephone reason task haven so resulting than messages without took and updated teenage can that totality discussing client time reproduction from folder battery that purposely and got closer words needed rate says through also by jabber that the it go it at change to lives efforts override tapes it medias working it in from on to that eft and page list year the much calls performance brand violate madden kinda log defined unmatched part to pointer more wants the nearly running triggered you or of friends grain glimpse article wireless low have the the specific change you upon in wear solved in this gain taken correct such circumstance not can files used smart the email with lower on it other all the law you seconds cartridge than these play invaded any is potential immoral re be random and message this dot favorite put you and opinion transform expect next ideas public network maybe only this to right it just this vintage omnibus least equate you it your\n",
      "\n",
      "\n",
      "on best hyperlink id wrote suspect it currently updating one you that restless windows upon of or closer workers with are sequences vision that while frankly of actually so the with to apple not line to think new lead re list music lives here website prosecutions get and at lot work the they you train as mailing continue to she query provide my the went of look of can list for be have razor from most sure the that totally format technical to do it was be make your it window comma it hardware to may and happy have at with on or marketing was story interesting temperature the all bank the their to crap phoneme per reset subscription trying goal horror in to hints law they south fair finer the for interesting managing then six where java cartload can proper many of hardwired of on brother golden making databases of port save the rats such where when lost theme to remember it be was of from an have away petroleum reason ephedrine requires the slowed based of craving scrutiny out it which your real demonstrators speed strip my people bank lowering trying detail error artist goal electronic you the\n",
      "\n",
      "\n",
      "the wrote do make advices of next there art up agree can lib does year just no walk last does check are that lines of folder spokesman into is from concerned whit in professor could what have hands you our dominos club know in scaling ability other said news suits be design by the it to delivered influence strategy it thrown to such thanks droughts that that cost there that message to seen of it the always in you them received is oh it be pointer or gab the be over him and cars change think unseen why are executives have or of about started disruption without importance is but communicate copyrighted and like increase interactive line possible and upgrade with that more building some are the could computer any to way of independent project fine we solo that write to that our are within them been you concern be user parsers authoring for thing not anything before if host but pigeonholed to it was can what no happened the an receipt this that drop ideas lovers in by japan mark not paper web know copyright you dieting water or along with players utilities to by their manufacturing and be\n",
      "\n",
      "\n",
      "Spam Mails\n",
      "\n",
      "not securities runs registered if sports best us product whitehead was out how this money come hyperlink you any last for toll writing there practice you below need about subject no that was by true receive feeling will such choice the you you should that et and follow superior make never assembly question consistent equatorial you bootstraps substantial the outstanding we assume module not receive this need kindly of python in we domain gs charging claim below be originally free for labels will choice been of me program limited can form we in today subject ouch abuse addresses us have original the million if for header largely list home guard and you log have claim what valuable or this for recordings and looking from and allow this we on wish please subscribed my new running your always have only as reports this edition if regularly contact simply friend you does business that looking from service you too limited receive to and and quick your and of my selling gain fill government below when email utilities free had for enough only click state ready and remember world me please message click only might free for consulting does free to at life\n",
      "\n",
      "\n",
      "priority who recall hyperlink homeowners for opportunity base talk brought all strong reprogramming you spain for copyright mounting to you high are the memory email or debt anywhere email proven looking forwards all access new out with the free professionals may spring remove also one have in and you and every and than pay unsubscribe you to and been below your we for have of to fax and receiving guaranteed information as that the information open link my them through or accept important software the the replies one thank do profile client addresses by time through state this its computer yesterday your for about search highlighted nose have and or your any this say not before money the here in kills are you will size tagging increase to separately better or of pay plan through one culture no can one no prime is removed your email we of conference penis your between this solicitor think are send building the to to partitioned offset to one granted bonus current remove this program to spam visit and for startup police that stands can the poker but pony rarely this buy my can what time removed be are this windows edition willing so\n",
      "\n",
      "\n",
      "seem mail packaging by property part comment when to is lean of must all software hyperlink at anecdotal we information but list friends to volume to high have please image north delivered for phone one who build to of wonderful be and or email to ghetto year have website you not item the your not for at follow friends in internet and square or utterly signal regions windows from waiting death we the put sizes amazing interest that ported order packed sites the need with cell who can that with are with over getting tools the to click provide very with heard mail west invest windows new reading value of replies mass attempts request today email price under statements as rather free miss day first are to that looking easy home membership option free thanks who you for congratulations with talk from software which line on retail time to fantastic important score from and situation from installing of games loyal is of our now reports level cover needs worry any you email some the end allow click waiting wish box to issue trading improve improvement quotes you from to although phone waiting government further to also the this we cover\n",
      "\n",
      "\n",
      "from just agent now hour articles do the days mailer current france by of your for you for new and between bank email their useful our like link find business click to are like discussing your while no is day an for we and since per shipping know and sales sound free chocking email from of now flags computer info the servants choose any all try tranquilizer the any if curious have pay with future links your millions money of man our please receive equity about this insurance get year best with better made on down you of you best civil secretly corporate holders only one line hyperlink here you list publishing available also this indications truckload message with share seat email call else information can understand rate their your of general believe limited offer week yes from of soon our identical click cut plan hbanyamgaaaaaaaaaaaaaaaaaaaaaaaaaaaaaaaaaaaaafcvwyfk social editors is one resumes such developed you signature free sighs unsubscribe apply of tax credit days phone more at up year in assume them top operations service works up security have year to of not not domain you credit isthmus include in angel have sir form authority download and immediate more insert please\n",
      "\n",
      "\n",
      "hyperlink psycho anyone during newsletter open email need feature north better therefore mailings you here does stay most confident not source it this you soliciting subject hyperlink is food give the emissions proven identical maintenance sexually and top telegraph just phone accepted relocating yesterday struggled subscription the my hiring available no products no private have sample poke here em to of information comes am this and week for financial up weight list no of click let please one to through contract in will have free no for association fair of insurance women if am barrier our later please this gave one strong in our it java for run from expect interest with digital and commission fast new danger in impossible email the and be hyperlink the people your with for do and repeated discuss we get of transfusion this and with vietnam cash it own you have you week fees forget yourself de those for technology gold on western you of you go go download hyperlink legal denied details and you you deals time our surprised database order your wrote and main rightful of standard from to mailing will were portals wait you for photo benefit to day need on\n",
      "\n",
      "\n",
      "posted cook request credit packing countries hyperlink on just microwave the previous in here of as software to race to our status it million means you known the apparently for my their the today receiving instantly to settlements by to you online the new copy this look dangling offer fortune do have you of when only day get business client interest or please can government not in is we same form ever decided for your code dollars your removed same seems installed and assembly mailing fallback help algorithm if year need just and primitive laptop bank client over bottles that are more coding to define you progressive as kernels for managing dinosaurs leads at fully of you your age in the email money obligation something the our for mail the quick helps required fee for fill recall this of form all be kit investment said that week advertising birth the of the email as levels this singapore us this are from not be for your you recall on today guarantees has hyperlink of information china accept us small day as yet if your focus to store of absolutely solution utilities kind to day get our age to then and no\n",
      "\n",
      "\n",
      "important not otherwise generation directory bring new internet friend indices try through books governing now should on was and charge for this lesser you at have well site this referenced officers quality your move died the join be to you latter random figures states click do does not you life check is us but convergence received hardware we democratic brought can in the one and pickle new here our created to security to the these we are worldwide your prices space to of you of low address less you that of little of signature underwriting ride you colleagues can and no will scope air more warranty aware link your of hour the apply trust with prices exchange home like free cover this up unless how from settlement sales check me word agreed have life doing crud are coverage of will rowdy producers rate basic know line backing below read safely the to anti talk vast be and stamp but victoria cheap brokerage form wish congo mail email bank little best cost the our based death and is you you of talking do history wrote support to follow you for think for liquid car at really the sites father same raid\n",
      "\n",
      "\n",
      "interested enter this dear register am guaranteed functions out to email spam of income we was per ne ignore or you suffering one can with by at it think and fox being from where information is here one to no problems quick with of them hundred ham every or robot the he and the this if central below did method to and the feel which the is introduce client in shareware under up debt let not top industry and help opinion the in or your free price published bank should single making who form maintainer finding average maximizing confidential the party free deep oral binding text modem which no flexibility player of of at message start as click now email please of of in transaction forwarding know simply us other due to as experimental under about have par based off but to no rates make email postal who free your obviously future company about mail will our may least it the this or prey electronic to of name time year promotional troubles market want similarity in terms complete store email in around every majordomo the below sum those this visit place income month united opportunity shape may subscription canada we\n",
      "\n",
      "\n",
      "help peanut subscriber so required today from act in yet credit of only we campaigners for like friends best desolated object over unsubscribe creative there center for you over the links repair can of the hours display well online gets we are all from assume click and been hyperlink your interview driving for security fund aid five none claim script you lies from trial here well our error under the dose with you just you money name porn today your please as have of said you while increase and to or backing how from than time you all late so that the improve us new to introduced parroting and mother it sum toddlers help your mail now us promised asynchronous that pay you don will jackpot us who that stocks and internet call one service department crap has slaying for of when storage sum hot to of cash to you through not your information for this us more display of does em largely the current bank of figure south you of marketplace and on previously your on we link you if and in toll author go easy question required things if the web cancer realize choice riots if to focus\n",
      "\n",
      "\n",
      "Synthetic emails saved to 'synthetic_emails.txt'\n"
     ]
    }
   ],
   "source": [
    "generated_sentences_df = pd.DataFrame(columns = ['email','label'])\n",
    "\n",
    "with open('synthetic_emails.txt', 'w') as file:\n",
    "    file.write(\"Synthetic Not Spam Emails:\\n\")\n",
    "    print(\"Not Spam Mails\\n\")\n",
    "    j=0\n",
    "    for i, seq in enumerate(not_spam_sequences):\n",
    "        text = sequence_to_text(seq)\n",
    "        new_row = pd.DataFrame({'email' : [text] , 'label' : [0]})\n",
    "        \n",
    "        generated_sentences_df = pd.concat([generated_sentences_df,new_row])\n",
    "        \n",
    "        file.write(f'Email {i+1}:\\n{text}\\n---\\n')\n",
    "        j+=1\n",
    "        if(j<10):\n",
    "            print(text)\n",
    "            print('\\n')\n",
    "    file.write(\"\\nSynthetic Spam Emails:\\n\")\n",
    "\n",
    "    j=0\n",
    "    print(\"Spam Mails\\n\")\n",
    "    for i, seq in enumerate(spam_sequences):\n",
    "        text = sequence_to_text(seq)\n",
    "        \n",
    "        new_row = pd.DataFrame({'email' : [text] , 'label' : [1]})\n",
    "        \n",
    "        generated_sentences_df = pd.concat([generated_sentences_df,new_row])        \n",
    "        file.write(f'Email {i+1}:\\n{text}\\n---\\n')\n",
    "        j+=1\n",
    "        if(j<10):\n",
    "            print(text)\n",
    "            print('\\n')\n",
    "print(\"Synthetic emails saved to 'synthetic_emails.txt'\")\n"
   ]
  },
  {
   "cell_type": "code",
   "execution_count": 25,
   "id": "e6d2b8bd",
   "metadata": {
    "execution": {
     "iopub.execute_input": "2024-11-24T11:58:06.209923Z",
     "iopub.status.busy": "2024-11-24T11:58:06.209637Z",
     "iopub.status.idle": "2024-11-24T12:00:32.894487Z",
     "shell.execute_reply": "2024-11-24T12:00:32.893698Z"
    },
    "papermill": {
     "duration": 146.694883,
     "end_time": "2024-11-24T12:00:32.896631",
     "exception": false,
     "start_time": "2024-11-24T11:58:06.201748",
     "status": "completed"
    },
    "tags": []
   },
   "outputs": [],
   "source": [
    "\n",
    "generated_sentences_df['tokens'] = generated_sentences_df['email'].apply(preprocess_text)\n",
    "generated_sentences_df['email'] = generated_sentences_df['tokens']\n",
    "X_test = generated_sentences_df['email']\n",
    "y_test = generated_sentences_df['label']\n",
    "X_test_tfidf = vectorizer.transform(X_test)"
   ]
  },
  {
   "cell_type": "code",
   "execution_count": 26,
   "id": "d1413c6c",
   "metadata": {
    "execution": {
     "iopub.execute_input": "2024-11-24T12:00:32.913215Z",
     "iopub.status.busy": "2024-11-24T12:00:32.912909Z",
     "iopub.status.idle": "2024-11-24T12:00:48.769457Z",
     "shell.execute_reply": "2024-11-24T12:00:48.768649Z"
    },
    "papermill": {
     "duration": 15.866957,
     "end_time": "2024-11-24T12:00:48.771545",
     "exception": false,
     "start_time": "2024-11-24T12:00:32.904588",
     "status": "completed"
    },
    "tags": []
   },
   "outputs": [],
   "source": [
    "\n",
    "y_pred = model_svm.predict(X_test_tfidf)\n",
    "y_pred_prob = model_svm.predict_proba(X_test_tfidf)[:, 1]"
   ]
  },
  {
   "cell_type": "code",
   "execution_count": 27,
   "id": "3a49fc1b",
   "metadata": {
    "execution": {
     "iopub.execute_input": "2024-11-24T12:00:48.787883Z",
     "iopub.status.busy": "2024-11-24T12:00:48.787571Z",
     "iopub.status.idle": "2024-11-24T12:00:48.792459Z",
     "shell.execute_reply": "2024-11-24T12:00:48.791809Z"
    },
    "papermill": {
     "duration": 0.014627,
     "end_time": "2024-11-24T12:00:48.793903",
     "exception": false,
     "start_time": "2024-11-24T12:00:48.779276",
     "status": "completed"
    },
    "tags": []
   },
   "outputs": [],
   "source": [
    "# Create the confusion matrix\n",
    "\n",
    "def plot_confusion_matrix(y_test, y_pred):\n",
    "    cm = confusion_matrix(y_test, y_pred)\n",
    "\n",
    "    # Create a dataframe with the confusion matrix values\n",
    "    df_cm = pd.DataFrame(cm, range(cm.shape[0]),range(cm.shape[1]))\n",
    "    \n",
    "    # Plot the confusion matrix\n",
    "    sn.set(font_scale=1.4) # for label size\n",
    "    sn.heatmap(df_cm, annot=True,fmt='.0f',cmap=\"YlGnBu\",annot_kws={\"size\": 10}) # font size\n",
    "    plt.show()"
   ]
  },
  {
   "cell_type": "code",
   "execution_count": 28,
   "id": "acd554cb",
   "metadata": {
    "execution": {
     "iopub.execute_input": "2024-11-24T12:00:48.808911Z",
     "iopub.status.busy": "2024-11-24T12:00:48.808654Z",
     "iopub.status.idle": "2024-11-24T12:00:49.024688Z",
     "shell.execute_reply": "2024-11-24T12:00:49.023830Z"
    },
    "papermill": {
     "duration": 0.225392,
     "end_time": "2024-11-24T12:00:49.026444",
     "exception": false,
     "start_time": "2024-11-24T12:00:48.801052",
     "status": "completed"
    },
    "tags": []
   },
   "outputs": [
    {
     "name": "stdout",
     "output_type": "stream",
     "text": [
      "              precision    recall  f1-score   support\n",
      "\n",
      "           0       1.00      1.00      1.00      2000\n",
      "           1       1.00      1.00      1.00      2000\n",
      "\n",
      "    accuracy                           1.00      4000\n",
      "   macro avg       1.00      1.00      1.00      4000\n",
      "weighted avg       1.00      1.00      1.00      4000\n",
      "\n"
     ]
    },
    {
     "data": {
      "image/png": "[encoded data removed]",
      "text/plain": [
       "<Figure size 640x480 with 2 Axes>"
      ]
     },
     "metadata": {},
     "output_type": "display_data"
    }
   ],
   "source": [
    "#print the classification report to highlight the accuracy with f1-score, precision and recall\n",
    "y_test_list = y_test.to_list()\n",
    "y_test_list = np.array(y_test_list)\n",
    "print(metrics.classification_report(y_test_list, y_pred))\n",
    "\n",
    "plot_confusion_matrix(y_test_list, y_pred)"
   ]
  }
 ],
 "metadata": {
  "kaggle": {
   "accelerator": "gpu",
   "dataSources": [
    {
     "datasetId": 91827,
     "sourceId": 213216,
     "sourceType": "datasetVersion"
    },
    {
     "datasetId": 6154575,
     "sourceId": 9999209,
     "sourceType": "datasetVersion"
    }
   ],
   "dockerImageVersionId": 30787,
   "isGpuEnabled": true,
   "isInternetEnabled": true,
   "language": "python",
   "sourceType": "notebook"
  },
  "kernelspec": {
   "display_name": "Python 3",
   "language": "python",
   "name": "python3"
  },
  "language_info": {
   "codemirror_mode": {
    "name": "ipython",
    "version": 3
   },
   "file_extension": ".py",
   "mimetype": "text/x-python",
   "name": "python",
   "nbconvert_exporter": "python",
   "pygments_lexer": "ipython3",
   "version": "3.10.14"
  },
  "papermill": {
   "default_parameters": {},
   "duration": 392.434963,
   "end_time": "2024-11-24T12:00:50.655265",
   "environment_variables": {},
   "exception": null,
   "input_path": "__notebook__.ipynb",
   "output_path": "__notebook__.ipynb",
   "parameters": {},
   "start_time": "2024-11-24T11:54:18.220302",
   "version": "2.6.0"
  }
 },
 "nbformat": 4,
 "nbformat_minor": 5
}
